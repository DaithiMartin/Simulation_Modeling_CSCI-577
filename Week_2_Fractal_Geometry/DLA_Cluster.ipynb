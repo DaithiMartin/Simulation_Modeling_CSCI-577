{
 "cells": [
  {
   "cell_type": "markdown",
   "metadata": {
    "collapsed": true,
    "pycharm": {
     "name": "#%% md\n"
    }
   },
   "source": [
    "# DLA Cluster\n",
    "\n",
    "Implementation of Diffusion Limited Aggregation(DLA) cluster. http://wiki.cs.umt.edu/classes/cs477/index.php/DLA_Assignment"
   ]
  },
  {
   "cell_type": "code",
   "execution_count": 2,
   "outputs": [],
   "source": [
    "import numpy as np\n",
    "from time import sleep\n",
    "from IPython.display import clear_output\n",
    "from matplotlib import pyplot as plt\n",
    "%matplotlib inline"
   ],
   "metadata": {
    "collapsed": false,
    "pycharm": {
     "name": "#%%\n"
    }
   }
  },
  {
   "cell_type": "code",
   "execution_count": 3,
   "outputs": [],
   "source": [
    "class DLA:\n",
    "\n",
    "    def __init__(self, world_area=61):\n",
    "        self.L = world_area // 2\n",
    "        self.lattice = self.lattice = np.zeros((world_area, world_area), dtype=np.int8).tolist()\n",
    "        self.lattice[self.L][self.L] = 1\n",
    "\n",
    "        self.num_particles = 1\n",
    "        self.ring_size = self.L // 10\n",
    "        self.start_radius = 3\n",
    "        self.max_radius = self.ring_size + self.start_radius\n",
    "\n",
    "        self.cycles = 0\n",
    "        self.complete = False\n",
    "\n",
    "    def reset(self):\n",
    "        self.__init__()\n",
    "        return None\n",
    "\n",
    "    def iterate(self):\n",
    "        \"\"\"\n",
    "        Iterate through one cycle of adding a particle to the cluster.\n",
    "\n",
    "        :return: None\n",
    "        \"\"\"\n",
    "        x = 0\n",
    "        y = 0\n",
    "        if self.start_radius < self.L:\n",
    "\n",
    "            theta = 2 * np.pi * np.random.random()\n",
    "            x = self.L + int(self.start_radius * np.cos(theta))\n",
    "            y = self.L + int(self.start_radius * np.sin(theta))\n",
    "            self.walk(x, y)\n",
    "\n",
    "        else:\n",
    "            self.complete = True\n",
    "\n",
    "        self.cycles += 1\n",
    "\n",
    "        return None\n",
    "\n",
    "    def walk(self, x, y):\n",
    "        \"\"\"\n",
    "        From position (x,y), randomly walk until you exceed maximum radius or stick to cluster.\n",
    "\n",
    "        :param x: x coordinate\n",
    "        :param y: y coordinate\n",
    "        :return: None\n",
    "        \"\"\"\n",
    "\n",
    "        walking = True\n",
    "\n",
    "        while walking:\n",
    "            r_squared = (x - self.L) ** 2 + (y - self.L) ** 2\n",
    "            r = 1 + int(np.sqrt(r_squared))\n",
    "            if r > self.max_radius:\n",
    "                walking = False\n",
    "\n",
    "            elif r < self.L and (self.lattice[x+1][y] + self.lattice[x-1][y] + self.lattice[x][y+1] + self.lattice[x][y-1] > 0):\n",
    "                self.num_particles += 1\n",
    "                self.lattice[x][y] = 1\n",
    "                if r >= self.start_radius:\n",
    "                    self.start_radius = r+2\n",
    "                self.max_radius = self.start_radius + self.ring_size\n",
    "                walking = False\n",
    "            else:\n",
    "                direction = np.random.randint(0,4)\n",
    "                if direction == 0:\n",
    "                    x += 1\n",
    "                elif direction == 1:\n",
    "                    x -= 1\n",
    "                elif direction == 2:\n",
    "                    y += 1\n",
    "                else:\n",
    "                    y -= 1\n",
    "\n",
    "        return None\n",
    "\n",
    "    def center_of_mass(self):\n",
    "        \"\"\"\n",
    "        Gets current center of mass in lattice coordinates.\n",
    "\n",
    "        :return tuple: (x, y)\n",
    "        \"\"\"\n",
    "        x, y = np.where(self.lattice == 1)\n",
    "        x = np.sum(x) // self.num_particles\n",
    "        y = np.sum(y) // self.num_particles\n",
    "        return x, y\n",
    "\n",
    "    def animate(self):\n",
    "        \"\"\"\n",
    "        Iterate through the space until cluster is completely surrounded by dead cells.\n",
    "\n",
    "        :return: None\n",
    "        \"\"\"\n",
    "        plt.figure()\n",
    "        while not self.complete:\n",
    "            self.plot()\n",
    "            self.iterate()\n",
    "            sleep(0.01)\n",
    "            clear_output(wait=True)\n",
    "        self.plot()\n",
    "\n",
    "        return None\n",
    "\n",
    "    def plot(self):\n",
    "        \"\"\"\n",
    "        Plot current lattice configuration.\n",
    "\n",
    "        :return: None\n",
    "        \"\"\"\n",
    "        plt.figure()\n",
    "        plt.title(\"World Size: {}x{}\\nIteration: {}\\nParticles: {}\".format(self.L,\n",
    "                                                                           self.L,\n",
    "                                                                           self.cycles,\n",
    "                                                                           self.num_particles))\n",
    "\n",
    "        plt.imshow(self.lattice)\n",
    "        plt.show()\n",
    "\n",
    "        return None"
   ],
   "metadata": {
    "collapsed": false,
    "pycharm": {
     "name": "#%%\n"
    }
   }
  },
  {
   "cell_type": "code",
   "execution_count": null,
   "outputs": [
    {
     "data": {
      "text/plain": "<Figure size 432x288 with 1 Axes>",
      "image/png": "[encoded data removed]"
     },
     "metadata": {
      "needs_background": "light"
     },
     "output_type": "display_data"
    }
   ],
   "source": [
    "big_DLA = DLA()\n",
    "big_DLA.animate()"
   ],
   "metadata": {
    "collapsed": false,
    "pycharm": {
     "name": "#%%\n",
     "is_executing": true
    }
   }
  },
  {
   "cell_type": "code",
   "execution_count": null,
   "outputs": [],
   "source": [
    "big_DLA.num_particles"
   ],
   "metadata": {
    "collapsed": false,
    "pycharm": {
     "name": "#%%\n",
     "is_executing": true
    }
   }
  },
  {
   "cell_type": "code",
   "execution_count": null,
   "outputs": [],
   "source": [],
   "metadata": {
    "collapsed": false,
    "pycharm": {
     "name": "#%%\n"
    }
   }
  }
 ],
 "metadata": {
  "kernelspec": {
   "display_name": "Python 3",
   "language": "python",
   "name": "python3"
  },
  "language_info": {
   "codemirror_mode": {
    "name": "ipython",
    "version": 2
   },
   "file_extension": ".py",
   "mimetype": "text/x-python",
   "name": "python",
   "nbconvert_exporter": "python",
   "pygments_lexer": "ipython2",
   "version": "2.7.6"
  }
 },
 "nbformat": 4,
 "nbformat_minor": 0
}