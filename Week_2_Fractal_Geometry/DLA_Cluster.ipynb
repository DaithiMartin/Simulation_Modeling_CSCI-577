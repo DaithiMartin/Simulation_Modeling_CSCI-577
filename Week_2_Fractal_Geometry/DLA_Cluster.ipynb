{
 "cells": [
  {
   "cell_type": "markdown",
   "metadata": {
    "collapsed": true,
    "pycharm": {
     "name": "#%% md\n"
    }
   },
   "source": [
    "# DLA Cluster\n",
    "\n",
    "Implementation of Diffusion Limited Aggregation(DLA) cluster. http://wiki.cs.umt.edu/classes/cs477/index.php/DLA_Assignment"
   ]
  },
  {
   "cell_type": "code",
   "execution_count": 2,
   "outputs": [],
   "source": [
    "import numpy as np\n",
    "from time import sleep\n",
    "from IPython.display import clear_output\n",
    "from matplotlib import pyplot as plt\n",
    "from scipy.stats import linregress\n",
    "%matplotlib inline"
   ],
   "metadata": {
    "collapsed": false,
    "pycharm": {
     "name": "#%%\n"
    }
   }
  },
  {
   "cell_type": "code",
   "execution_count": 56,
   "outputs": [],
   "source": [
    "class DLA:\n",
    "\n",
    "    def __init__(self, lattice_width=61):\n",
    "        self.L = lattice_width // 2\n",
    "        self.lattice_dim = (lattice_width, lattice_width)\n",
    "        self.lattice = self.lattice = np.zeros((lattice_width, lattice_width), dtype=np.int8).tolist()\n",
    "        self.lattice[self.L][self.L] = 1\n",
    "\n",
    "        self.num_particles = 1\n",
    "        self.ring_size = self.L // 10\n",
    "        self.start_radius = 3\n",
    "        self.max_radius = self.ring_size + self.start_radius\n",
    "\n",
    "        self.cycles = 0\n",
    "        self.complete = False\n",
    "\n",
    "    def reset(self):\n",
    "        self.__init__()\n",
    "        return None\n",
    "\n",
    "    def iterate(self):\n",
    "        \"\"\"\n",
    "        Iterate through one cycle of adding a particle to the cluster.\n",
    "\n",
    "        :return: None\n",
    "        \"\"\"\n",
    "        x = 0\n",
    "        y = 0\n",
    "        if self.start_radius < self.L:\n",
    "\n",
    "            theta = 2 * np.pi * np.random.random()\n",
    "            x = self.L + int(self.start_radius * np.cos(theta))\n",
    "            y = self.L + int(self.start_radius * np.sin(theta))\n",
    "            self.walk(x, y)\n",
    "\n",
    "        else:\n",
    "            self.complete = True\n",
    "\n",
    "        self.cycles += 1\n",
    "\n",
    "        return None\n",
    "\n",
    "    def walk(self, x, y):\n",
    "        \"\"\"\n",
    "        From position (x,y), randomly walk until you exceed maximum radius or stick to cluster.\n",
    "\n",
    "        :param x: x coordinate\n",
    "        :param y: y coordinate\n",
    "        :return: None\n",
    "        \"\"\"\n",
    "\n",
    "        walking = True\n",
    "\n",
    "        while walking:\n",
    "            r_squared = (x - self.L) ** 2 + (y - self.L) ** 2\n",
    "            r = 1 + int(np.sqrt(r_squared))\n",
    "            if r > self.max_radius:\n",
    "                walking = False\n",
    "\n",
    "            elif r < self.L and (self.lattice[x+1][y] + self.lattice[x-1][y] + self.lattice[x][y+1] + self.lattice[x][y-1] > 0):\n",
    "                self.num_particles += 1\n",
    "                self.lattice[x][y] = 1\n",
    "                if r >= self.start_radius:\n",
    "                    self.start_radius = r+2\n",
    "                self.max_radius = self.start_radius + self.ring_size\n",
    "                walking = False\n",
    "            else:\n",
    "                direction = np.random.randint(0,4)\n",
    "                if direction == 0:\n",
    "                    x += 1\n",
    "                elif direction == 1:\n",
    "                    x -= 1\n",
    "                elif direction == 2:\n",
    "                    y += 1\n",
    "                else:\n",
    "                    y -= 1\n",
    "\n",
    "        return None\n",
    "\n",
    "    def center_of_mass(self):\n",
    "        \"\"\"\n",
    "        Gets current center of mass in lattice coordinates.\n",
    "\n",
    "        :return tuple: (x, y)\n",
    "        \"\"\"\n",
    "        x, y = np.where(np.array(self.lattice) == 1)\n",
    "        x = np.sum(x) // self.num_particles\n",
    "        y = np.sum(y) // self.num_particles\n",
    "        return np.array(x, y)\n",
    "\n",
    "    def get_radius(self):\n",
    "        x_pts, y_pts = np.where(np.array(self.lattice) == 1)\n",
    "        pts = []\n",
    "        for x, y in zip(x_pts,y_pts):\n",
    "            pts.append((x,y))\n",
    "        pts = np.array(pts, dtype=np.float32)\n",
    "        pts = pts - self.center_of_mass()\n",
    "        r = np.sqrt(pts[:, 0] ** 2 + pts[:, 1] ** 2)\n",
    "        return r\n",
    "\n",
    "    def animate(self):\n",
    "        \"\"\"\n",
    "        Iterate through the space until cluster is completely surrounded by dead cells.\n",
    "\n",
    "        :return: None\n",
    "        \"\"\"\n",
    "        plt.figure()\n",
    "        while not self.complete:\n",
    "            self.plot()\n",
    "            self.iterate()\n",
    "            sleep(0.01)\n",
    "            clear_output(wait=True)\n",
    "        self.plot()\n",
    "\n",
    "        return None\n",
    "\n",
    "    def plot(self):\n",
    "        \"\"\"\n",
    "        Plot current lattice configuration.\n",
    "\n",
    "        :return: None\n",
    "        \"\"\"\n",
    "        plt.figure()\n",
    "        plt.title(\"World Size: {}x{}\\nIteration: {}\\nParticles: {}\".format(self.L,\n",
    "                                                                           self.L,\n",
    "                                                                           self.cycles,\n",
    "                                                                           self.num_particles))\n",
    "\n",
    "        plt.imshow(self.lattice)\n",
    "        plt.show()\n",
    "\n",
    "        return None"
   ],
   "metadata": {
    "collapsed": false,
    "pycharm": {
     "name": "#%%\n"
    }
   }
  },
  {
   "cell_type": "code",
   "execution_count": 10,
   "outputs": [
    {
     "data": {
      "text/plain": "<Figure size 432x288 with 1 Axes>",
      "image/png": "[encoded data removed]"
     },
     "metadata": {
      "needs_background": "light"
     },
     "output_type": "display_data"
    }
   ],
   "source": [
    "big_DLA = DLA()\n",
    "big_DLA.animate()"
   ],
   "metadata": {
    "collapsed": false,
    "pycharm": {
     "name": "#%%\n"
    }
   }
  },
  {
   "cell_type": "markdown",
   "source": [
    "## 1) L = 61"
   ],
   "metadata": {
    "collapsed": false,
    "pycharm": {
     "name": "#%% md\n"
    }
   }
  },
  {
   "cell_type": "code",
   "execution_count": 61,
   "outputs": [],
   "source": [
    "L = 61\n",
    "DLA_sim = DLA(lattice_width=L)\n",
    "N_bins = 8\n",
    "N_sim = 10\n",
    "min_size = 0.1 * L/2\n",
    "max_size = 0.65 * L/2\n",
    "freq_array = np.zeros(N_bins)\n",
    "\n",
    "for _ in range(N_sim):\n",
    "    DLA_sim.reset()\n",
    "    while not DLA_sim.complete:\n",
    "        DLA_sim.iterate()\n",
    "    r = DLA_sim.get_radius()\n",
    "    r.sort()\n",
    "    count, bin_edg = np.histogram(r, range=(min_size, max_size), bins=N_bins)\n",
    "    freq_array += np.cumsum(count)\n",
    "\n",
    "DLA_CDF = freq_array / N_sim"
   ],
   "metadata": {
    "collapsed": false,
    "pycharm": {
     "name": "#%%\n"
    }
   }
  },
  {
   "cell_type": "code",
   "execution_count": 64,
   "outputs": [
    {
     "data": {
      "text/plain": "<Figure size 432x288 with 1 Axes>",
      "image/png": "[encoded data removed]"
     },
     "metadata": {
      "needs_background": "light"
     },
     "output_type": "display_data"
    }
   ],
   "source": [
    "\n",
    "x_discrete = (bin_edg[1:] + bin_edg[0:-1]) /  2\n",
    "regress = linregress(np.log10(x_discrete), np.log10(DLA_CDF))\n",
    "\n",
    "x = np.log10(np.linspace(x_discrete[0], x_discrete[-1], 200))\n",
    "y = regress.slope * x + regress.intercept\n",
    "plt.title(\"Lattice: {}\\nFractal Dimension: {}\".format(DLA_sim.lattice_dim, regress.slope))\n",
    "plt.ylabel(\"CDF\")\n",
    "plt.xlabel(\"r\")\n",
    "plt.plot(x, y)\n",
    "plt.scatter(np.log10(x_discrete), np.log10(DLA_CDF))\n",
    "\n",
    "plt.show()"
   ],
   "metadata": {
    "collapsed": false,
    "pycharm": {
     "name": "#%%\n"
    }
   }
  },
  {
   "cell_type": "markdown",
   "source": [
    "## 2) L = 101\n",
    "\n",
    "The fractal dimension appears to decrease with increasing lattice size."
   ],
   "metadata": {
    "collapsed": false,
    "pycharm": {
     "name": "#%% md\n"
    }
   }
  },
  {
   "cell_type": "code",
   "execution_count": 65,
   "outputs": [],
   "source": [
    "L = 101\n",
    "DLA_sim = DLA(lattice_width=L)\n",
    "N_bins = 8\n",
    "N_sim = 10\n",
    "min_size = 0.1 * L/2\n",
    "max_size = 0.65 * L/2\n",
    "freq_array = np.zeros(N_bins)\n",
    "\n",
    "for _ in range(N_sim):\n",
    "    DLA_sim.reset()\n",
    "    while not DLA_sim.complete:\n",
    "        DLA_sim.iterate()\n",
    "    r = DLA_sim.get_radius()\n",
    "    r.sort()\n",
    "    count, bin_edg = np.histogram(r, range=(min_size, max_size), bins=N_bins)\n",
    "    freq_array += np.cumsum(count)\n",
    "\n",
    "DLA_CDF = freq_array / N_sim"
   ],
   "metadata": {
    "collapsed": false,
    "pycharm": {
     "name": "#%%\n"
    }
   }
  },
  {
   "cell_type": "code",
   "execution_count": 66,
   "outputs": [
    {
     "data": {
      "text/plain": "<Figure size 432x288 with 1 Axes>",
      "image/png": "[encoded data removed]"
     },
     "metadata": {
      "needs_background": "light"
     },
     "output_type": "display_data"
    }
   ],
   "source": [
    "\n",
    "x_discrete = (bin_edg[1:] + bin_edg[0:-1]) /  2\n",
    "regress = linregress(np.log10(x_discrete), np.log10(DLA_CDF))\n",
    "\n",
    "x = np.log10(np.linspace(x_discrete[0], x_discrete[-1], 200))\n",
    "y = regress.slope * x + regress.intercept\n",
    "plt.title(\"Lattice: {}\\nFractal Dimension: {}\".format(DLA_sim.lattice_dim, regress.slope))\n",
    "plt.ylabel(\"CDF\")\n",
    "plt.xlabel(\"r\")\n",
    "plt.plot(x, y)\n",
    "plt.scatter(np.log10(x_discrete), np.log10(DLA_CDF))\n",
    "\n",
    "plt.show()"
   ],
   "metadata": {
    "collapsed": false,
    "pycharm": {
     "name": "#%%\n"
    }
   }
  },
  {
   "cell_type": "markdown",
   "source": [
    "\n"
   ],
   "metadata": {
    "collapsed": false,
    "pycharm": {
     "name": "#%% md\n"
    }
   }
  }
 ],
 "metadata": {
  "kernelspec": {
   "display_name": "Python 3",
   "language": "python",
   "name": "python3"
  },
  "language_info": {
   "codemirror_mode": {
    "name": "ipython",
    "version": 2
   },
   "file_extension": ".py",
   "mimetype": "text/x-python",
   "name": "python",
   "nbconvert_exporter": "python",
   "pygments_lexer": "ipython2",
   "version": "2.7.6"
  }
 },
 "nbformat": 4,
 "nbformat_minor": 0
}